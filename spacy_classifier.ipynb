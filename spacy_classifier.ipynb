{
 "cells": [
  {
   "cell_type": "code",
   "execution_count": 1,
   "metadata": {},
   "outputs": [],
   "source": [
    "import spacy\n",
    "import pandas as pd\n",
    "import numpy as np\n",
    "import random\n",
    "from sklearn.model_selection import train_test_split\n",
    "from sklearn.metrics import f1_score\n",
    "import re\n",
    "from tqdm import tqdm"
   ]
  },
  {
   "cell_type": "code",
   "execution_count": 2,
   "metadata": {},
   "outputs": [],
   "source": [
    "data = pd.read_csv(\"train.csv\")\n",
    "test = pd.read_csv(\"test.csv\")"
   ]
  },
  {
   "cell_type": "code",
   "execution_count": 4,
   "metadata": {},
   "outputs": [],
   "source": [
    "train, val = train_test_split(data, test_size=0.2)"
   ]
  },
  {
   "cell_type": "code",
   "execution_count": 6,
   "metadata": {},
   "outputs": [],
   "source": [
    "import string\n",
    "# From geeksforgeeks.org\n",
    "# remove punctuation \n",
    "def remove_punctuation(text): \n",
    "    translator = str.maketrans('', '', string.punctuation) \n",
    "    return text.translate(translator) "
   ]
  },
  {
   "cell_type": "code",
   "execution_count": 7,
   "metadata": {},
   "outputs": [
    {
     "data": {
      "text/plain": [
       "' people receive wildfires evacuation orders in california '"
      ]
     },
     "execution_count": 7,
     "metadata": {},
     "output_type": "execute_result"
    }
   ],
   "source": [
    "#Remove Numbers\n",
    "def remove_numbers(text): \n",
    "    result = re.sub(r'\\d+', '', text) \n",
    "    return result \n",
    "  \n",
    "input_str = \"13000 people receive wildfires evacuation orders in california \"\n",
    "remove_numbers(input_str) "
   ]
  },
  {
   "cell_type": "code",
   "execution_count": 8,
   "metadata": {},
   "outputs": [
    {
     "name": "stderr",
     "output_type": "stream",
     "text": [
      "[nltk_data] Downloading package stopwords to\n",
      "[nltk_data]     C:\\Users\\tresyap\\AppData\\Roaming\\nltk_data...\n",
      "[nltk_data]   Package stopwords is already up-to-date!\n"
     ]
    },
    {
     "data": {
      "text/plain": [
       "'raining flooding florida tampabay tampa 18  19 days ive lost count '"
      ]
     },
     "execution_count": 8,
     "metadata": {},
     "output_type": "execute_result"
    }
   ],
   "source": [
    "#Remove English Stopwords\n",
    "from nltk.corpus import stopwords \n",
    "from nltk.tokenize import word_tokenize \n",
    "import nltk\n",
    "nltk.download(\"stopwords\")\n",
    "\n",
    "def remove_stopwords(text): \n",
    "    stop_words = set(stopwords.words(\"english\"))\n",
    "    re_stop_words = re.compile(r\"\\b(\" + \"|\".join(stop_words) + \")\\\\W\", re.I)\n",
    "    filtered_text =  re_stop_words.sub(\" \", text)\n",
    "    return filtered_text \n",
    "  \n",
    "example_text = \"raining flooding florida tampabay tampa 18 or 19 days ive lost count \"\n",
    "remove_stopwords(example_text) "
   ]
  },
  {
   "cell_type": "code",
   "execution_count": 9,
   "metadata": {},
   "outputs": [
    {
     "data": {
      "text/plain": [
       "'rain flood florida tampabay tampa 18 or 19 day ive lost count'"
      ]
     },
     "execution_count": 9,
     "metadata": {},
     "output_type": "execute_result"
    }
   ],
   "source": [
    "# Stemmer\n",
    "from nltk.stem.porter import PorterStemmer \n",
    "stemmer = PorterStemmer() \n",
    "  \n",
    "# stem words in the list of tokenised words \n",
    "def stem_words(text): \n",
    "    stems = [stemmer.stem(word) for word in text.split()] \n",
    "    return \" \".join(stems)\n",
    "  \n",
    "text = \"raining flooding florida tampabay tampa 18 or 19 days ive lost count \"\n",
    "stem_words(text) "
   ]
  },
  {
   "cell_type": "code",
   "execution_count": 10,
   "metadata": {},
   "outputs": [],
   "source": [
    "def preprocess(df):\n",
    "    try:\n",
    "        df.drop(['keyword', 'location'], axis=1, inplace=True)\n",
    "    except:\n",
    "        print(\"columns already dropped\")\n",
    "    df.text = df.text.apply(remove_punctuation)\n",
    "    df.text = df.text.apply(remove_numbers)\n",
    "    df.text = df.text.apply(remove_stopwords)\n",
    "    df.text = df.text.apply(stem_words)\n",
    "    return df"
   ]
  },
  {
   "cell_type": "code",
   "execution_count": 11,
   "metadata": {},
   "outputs": [
    {
     "name": "stderr",
     "output_type": "stream",
     "text": [
      "C:\\Users\\tresyap\\Anaconda3\\lib\\site-packages\\pandas\\core\\frame.py:4102: SettingWithCopyWarning: \n",
      "A value is trying to be set on a copy of a slice from a DataFrame\n",
      "\n",
      "See the caveats in the documentation: http://pandas.pydata.org/pandas-docs/stable/user_guide/indexing.html#returning-a-view-versus-a-copy\n",
      "  errors=errors,\n",
      "C:\\Users\\tresyap\\Anaconda3\\lib\\site-packages\\pandas\\core\\generic.py:5208: SettingWithCopyWarning: \n",
      "A value is trying to be set on a copy of a slice from a DataFrame.\n",
      "Try using .loc[row_indexer,col_indexer] = value instead\n",
      "\n",
      "See the caveats in the documentation: http://pandas.pydata.org/pandas-docs/stable/user_guide/indexing.html#returning-a-view-versus-a-copy\n",
      "  self[name] = value\n"
     ]
    }
   ],
   "source": [
    "train = preprocess(train)\n",
    "val = preprocess(val)"
   ]
  },
  {
   "cell_type": "code",
   "execution_count": 12,
   "metadata": {},
   "outputs": [],
   "source": [
    "train_texts = train.text.values\n",
    "train_labels = [{'cats': {'0': label == 0,\n",
    "                          '1': label == 1}}\n",
    "                for label in train.target]"
   ]
  },
  {
   "cell_type": "code",
   "execution_count": 13,
   "metadata": {},
   "outputs": [
    {
     "data": {
      "text/plain": [
       "6090"
      ]
     },
     "execution_count": 13,
     "metadata": {},
     "output_type": "execute_result"
    }
   ],
   "source": [
    "len(train_texts)"
   ]
  },
  {
   "cell_type": "code",
   "execution_count": 14,
   "metadata": {},
   "outputs": [
    {
     "data": {
      "text/plain": [
       "6090"
      ]
     },
     "execution_count": 14,
     "metadata": {},
     "output_type": "execute_result"
    }
   ],
   "source": [
    "len(train_labels)"
   ]
  },
  {
   "cell_type": "code",
   "execution_count": 15,
   "metadata": {},
   "outputs": [],
   "source": [
    "train_data = list(zip(train_texts, train_labels))"
   ]
  },
  {
   "cell_type": "code",
   "execution_count": 20,
   "metadata": {},
   "outputs": [],
   "source": [
    "def train_spacy(train_data, epochs=10, verbose=0, batch_size=32, archi=\"ensemble\"):\n",
    "    nlp = spacy.blank(\"en\")\n",
    "\n",
    "    #default architecture\n",
    "    textcat = nlp.create_pipe(\n",
    "                    \"textcat\",\n",
    "                    config={\n",
    "                        \"exclusive_classes\": True,\n",
    "                        \"architecture\": archi\n",
    "                    })\n",
    "\n",
    "    nlp.add_pipe(textcat)\n",
    "\n",
    "    textcat.add_label(\"0\")\n",
    "    textcat.add_label(\"1\")\n",
    "\n",
    "    spacy.util.fix_random_seed(1)\n",
    "    optimizer = nlp.begin_training()\n",
    "\n",
    "    losses = {}\n",
    "    for epoch in range(epochs):\n",
    "        #shuffle data to improve performance\n",
    "\n",
    "        random.shuffle(train_data)\n",
    "        #training loop\n",
    "        for batch in (spacy.util.minibatch(train_data, size=batch_size)):\n",
    "            texts, labels = zip(*batch)\n",
    "            nlp.update(texts, labels, sgd=optimizer, losses=losses)\n",
    "        if verbose == 1:\n",
    "            print(losses)\n",
    "    return textcat"
   ]
  },
  {
   "cell_type": "code",
   "execution_count": 21,
   "metadata": {},
   "outputs": [],
   "source": [
    "def model_eval(epochs=10, verbose=0, batch_size=32, archi=\"ensemble\"):\n",
    "    nlp = spacy.blank(\"en\")\n",
    "\n",
    "    textcat = train_spacy(train_data, epochs=epochs, verbose=verbose, batch_size=batch_size, archi=archi)\n",
    "\n",
    "    test_docs = [nlp.tokenizer(text) for text in val.text]\n",
    "\n",
    "    scores, _ = textcat.predict(test_docs)\n",
    "\n",
    "    predicted_labels = scores.argmax(axis=1)\n",
    "    y_val = val.target\n",
    "\n",
    "    print(f1_score(y_val, predicted_labels))"
   ]
  },
  {
   "cell_type": "code",
   "execution_count": 24,
   "metadata": {},
   "outputs": [
    {
     "name": "stdout",
     "output_type": "stream",
     "text": [
      "0.7479935794542536\n",
      "0.7371794871794872\n"
     ]
    }
   ],
   "source": [
    "# model_eval(10, archi=\"bow\")\n",
    "model_eval(20, archi=\"bow\")\n",
    "model_eval(30, archi=\"bow\")"
   ]
  },
  {
   "cell_type": "code",
   "execution_count": 25,
   "metadata": {},
   "outputs": [],
   "source": [
    "test = preprocess(test)"
   ]
  },
  {
   "cell_type": "code",
   "execution_count": 26,
   "metadata": {},
   "outputs": [],
   "source": [
    "nlp = spacy.blank(\"en\")\n",
    "textcat = train_spacy(train_data, 10, archi=\"bow\")\n",
    "test_docs = [nlp.tokenizer(text) for text in test.text]\n",
    "scores, _ = textcat.predict(test_docs)\n",
    "pred = scores.argmax(axis=1)"
   ]
  },
  {
   "cell_type": "code",
   "execution_count": 27,
   "metadata": {},
   "outputs": [],
   "source": [
    "submission = pd.DataFrame({'id': test.id, 'target': pred})\n",
    "submission.to_csv('disaster_tweet_spacy.csv', index=False)"
   ]
  }
 ],
 "metadata": {
  "kernelspec": {
   "display_name": "Python 3",
   "language": "python",
   "name": "python3"
  },
  "language_info": {
   "codemirror_mode": {
    "name": "ipython",
    "version": 3
   },
   "file_extension": ".py",
   "mimetype": "text/x-python",
   "name": "python",
   "nbconvert_exporter": "python",
   "pygments_lexer": "ipython3",
   "version": "3.7.4"
  }
 },
 "nbformat": 4,
 "nbformat_minor": 4
}
