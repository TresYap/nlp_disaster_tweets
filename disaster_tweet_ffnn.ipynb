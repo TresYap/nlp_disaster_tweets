{
 "cells": [
  {
   "cell_type": "code",
   "execution_count": 1,
   "metadata": {},
   "outputs": [],
   "source": [
    "import spacy\n",
    "import pandas as pd\n",
    "import numpy as np\n",
    "from tqdm import tqdm"
   ]
  },
  {
   "cell_type": "code",
   "execution_count": 2,
   "metadata": {},
   "outputs": [],
   "source": [
    "data = pd.read_csv(\"train.csv\")\n",
    "test = pd.read_csv(\"test.csv\")"
   ]
  },
  {
   "cell_type": "markdown",
   "metadata": {},
   "source": [
    "### Spacy Word Vector Preprocessing"
   ]
  },
  {
   "cell_type": "code",
   "execution_count": 3,
   "metadata": {},
   "outputs": [],
   "source": [
    "nlp = spacy.load('en_core_web_lg')"
   ]
  },
  {
   "cell_type": "code",
   "execution_count": 4,
   "metadata": {},
   "outputs": [
    {
     "name": "stderr",
     "output_type": "stream",
     "text": [
      "100%|█████████████████████████████████████████████████████████████████████████████| 7613/7613 [01:00<00:00, 126.54it/s]\n"
     ]
    }
   ],
   "source": [
    "with nlp.disable_pipes():\n",
    "    doc_vectors = np.array([nlp(doc).vector for doc in tqdm(data.text)])"
   ]
  },
  {
   "cell_type": "code",
   "execution_count": 38,
   "metadata": {},
   "outputs": [],
   "source": [
    "import tensorflow as tf \n",
    "from tensorflow.keras.models import Sequential\n",
    "from tensorflow.keras.layers import Dense, Dropout, Activation\n",
    "from tensorflow.keras.callbacks import TensorBoard\n",
    "#try 50% dropout rate for hidden layers"
   ]
  },
  {
   "cell_type": "code",
   "execution_count": 6,
   "metadata": {},
   "outputs": [
    {
     "data": {
      "text/plain": [
       "(300,)"
      ]
     },
     "execution_count": 6,
     "metadata": {},
     "output_type": "execute_result"
    }
   ],
   "source": [
    "doc_vectors[0].shape"
   ]
  },
  {
   "cell_type": "code",
   "execution_count": 16,
   "metadata": {},
   "outputs": [],
   "source": [
    "def ffnn(layers, nodes=128):\n",
    "    model = Sequential()\n",
    "    \n",
    "    #Input Layer\n",
    "    model.add(Dense(nodes, activation=\"relu\", input_dim=300))\n",
    "    \n",
    "    for i in range(layers):\n",
    "        model.add(Dense(nodes, activation=\"relu\"))\n",
    "        model.add(Dropout(0.5))\n",
    "        \n",
    "    model.add(Dense(1, activation=\"sigmoid\"))\n",
    "    model.compile(loss=\"binary_crossentropy\",\n",
    "              optimizer=\"adam\",\n",
    "              metrics=['accuracy'])\n",
    "    return model"
   ]
  },
  {
   "cell_type": "code",
   "execution_count": 61,
   "metadata": {},
   "outputs": [],
   "source": [
    "# models = {}\n",
    "# nodes = [32, 64, 128]\n",
    "# for i in range(4):\n",
    "#     for node in nodes:\n",
    "#         models[f\"{i}_{node}\"] = ffnn(i, nodes=node)"
   ]
  },
  {
   "cell_type": "code",
   "execution_count": 62,
   "metadata": {},
   "outputs": [],
   "source": [
    "y = np.array(data.target)"
   ]
  },
  {
   "cell_type": "code",
   "execution_count": 63,
   "metadata": {},
   "outputs": [],
   "source": [
    "# for key, model in models.items(): \n",
    "#     tensorboard = TensorBoard(log_dir=f\"logs2\\{key}\")\n",
    "#     model.fit(doc_vectors, y, batch_size=8, epochs=10, validation_split=0.2, callbacks=[tensorboard], verbose=0)"
   ]
  },
  {
   "cell_type": "code",
   "execution_count": 83,
   "metadata": {},
   "outputs": [
    {
     "name": "stdout",
     "output_type": "stream",
     "text": [
      "Train on 7613 samples\n",
      "Epoch 1/10\n",
      "7613/7613 [==============================] - ETA: 4:10 - loss: 0.7644 - accuracy: 0.37 - ETA: 6s - loss: 0.6074 - accuracy: 0.6793 - ETA: 3s - loss: 0.5722 - accuracy: 0.72 - ETA: 2s - loss: 0.5532 - accuracy: 0.73 - ETA: 2s - loss: 0.5416 - accuracy: 0.74 - ETA: 1s - loss: 0.5257 - accuracy: 0.75 - ETA: 1s - loss: 0.5240 - accuracy: 0.75 - ETA: 1s - loss: 0.5194 - accuracy: 0.75 - ETA: 1s - loss: 0.5121 - accuracy: 0.75 - ETA: 0s - loss: 0.5070 - accuracy: 0.76 - ETA: 0s - loss: 0.4997 - accuracy: 0.76 - ETA: 0s - loss: 0.4938 - accuracy: 0.77 - ETA: 0s - loss: 0.4916 - accuracy: 0.77 - ETA: 0s - loss: 0.4857 - accuracy: 0.77 - ETA: 0s - loss: 0.4823 - accuracy: 0.78 - ETA: 0s - loss: 0.4758 - accuracy: 0.78 - ETA: 0s - loss: 0.4751 - accuracy: 0.78 - ETA: 0s - loss: 0.4746 - accuracy: 0.78 - ETA: 0s - loss: 0.4735 - accuracy: 0.78 - ETA: 0s - loss: 0.4729 - accuracy: 0.78 - 1s 166us/sample - loss: 0.4731 - accuracy: 0.7869\n",
      "Epoch 2/10\n",
      "7613/7613 [==============================] - ETA: 1s - loss: 0.1823 - accuracy: 1.00 - ETA: 0s - loss: 0.4417 - accuracy: 0.80 - ETA: 0s - loss: 0.4299 - accuracy: 0.81 - ETA: 0s - loss: 0.4360 - accuracy: 0.80 - ETA: 0s - loss: 0.4304 - accuracy: 0.80 - ETA: 0s - loss: 0.4210 - accuracy: 0.81 - ETA: 0s - loss: 0.4213 - accuracy: 0.81 - ETA: 0s - loss: 0.4242 - accuracy: 0.80 - ETA: 0s - loss: 0.4236 - accuracy: 0.80 - ETA: 0s - loss: 0.4287 - accuracy: 0.80 - ETA: 0s - loss: 0.4293 - accuracy: 0.80 - ETA: 0s - loss: 0.4220 - accuracy: 0.81 - ETA: 0s - loss: 0.4200 - accuracy: 0.81 - ETA: 0s - loss: 0.4210 - accuracy: 0.81 - ETA: 0s - loss: 0.4212 - accuracy: 0.81 - ETA: 0s - loss: 0.4222 - accuracy: 0.81 - ETA: 0s - loss: 0.4244 - accuracy: 0.80 - ETA: 0s - loss: 0.4244 - accuracy: 0.80 - ETA: 0s - loss: 0.4257 - accuracy: 0.80 - 1s 126us/sample - loss: 0.4251 - accuracy: 0.8098\n",
      "Epoch 3/10\n",
      "7613/7613 [==============================] - ETA: 1s - loss: 0.3076 - accuracy: 1.00 - ETA: 0s - loss: 0.3770 - accuracy: 0.84 - ETA: 0s - loss: 0.4032 - accuracy: 0.83 - ETA: 0s - loss: 0.4043 - accuracy: 0.83 - ETA: 0s - loss: 0.4029 - accuracy: 0.83 - ETA: 0s - loss: 0.4055 - accuracy: 0.83 - ETA: 0s - loss: 0.4090 - accuracy: 0.82 - ETA: 0s - loss: 0.4097 - accuracy: 0.82 - ETA: 0s - loss: 0.4098 - accuracy: 0.82 - ETA: 0s - loss: 0.4089 - accuracy: 0.82 - ETA: 0s - loss: 0.4085 - accuracy: 0.82 - ETA: 0s - loss: 0.4071 - accuracy: 0.82 - ETA: 0s - loss: 0.4103 - accuracy: 0.82 - ETA: 0s - loss: 0.4117 - accuracy: 0.82 - ETA: 0s - loss: 0.4091 - accuracy: 0.82 - ETA: 0s - loss: 0.4093 - accuracy: 0.82 - ETA: 0s - loss: 0.4102 - accuracy: 0.81 - ETA: 0s - loss: 0.4091 - accuracy: 0.81 - ETA: 0s - loss: 0.4095 - accuracy: 0.81 - ETA: 0s - loss: 0.4065 - accuracy: 0.82 - 1s 130us/sample - loss: 0.4072 - accuracy: 0.8212\n",
      "Epoch 4/10\n",
      "7613/7613 [==============================] - ETA: 2s - loss: 0.8165 - accuracy: 0.62 - ETA: 0s - loss: 0.4142 - accuracy: 0.82 - ETA: 0s - loss: 0.3953 - accuracy: 0.83 - ETA: 0s - loss: 0.3785 - accuracy: 0.83 - ETA: 0s - loss: 0.3844 - accuracy: 0.83 - ETA: 0s - loss: 0.3863 - accuracy: 0.83 - ETA: 0s - loss: 0.3874 - accuracy: 0.83 - ETA: 0s - loss: 0.3932 - accuracy: 0.82 - ETA: 0s - loss: 0.3937 - accuracy: 0.82 - ETA: 0s - loss: 0.3923 - accuracy: 0.82 - ETA: 0s - loss: 0.3912 - accuracy: 0.82 - ETA: 0s - loss: 0.3906 - accuracy: 0.82 - ETA: 0s - loss: 0.3873 - accuracy: 0.83 - ETA: 0s - loss: 0.3872 - accuracy: 0.82 - ETA: 0s - loss: 0.3867 - accuracy: 0.83 - ETA: 0s - loss: 0.3861 - accuracy: 0.83 - ETA: 0s - loss: 0.3854 - accuracy: 0.83 - ETA: 0s - loss: 0.3862 - accuracy: 0.83 - ETA: 0s - loss: 0.3875 - accuracy: 0.83 - ETA: 0s - loss: 0.3882 - accuracy: 0.83 - 1s 129us/sample - loss: 0.3882 - accuracy: 0.8304\n",
      "Epoch 5/10\n",
      "7613/7613 [==============================] - ETA: 2s - loss: 0.4241 - accuracy: 0.75 - ETA: 1s - loss: 0.4158 - accuracy: 0.78 - ETA: 0s - loss: 0.3790 - accuracy: 0.81 - ETA: 0s - loss: 0.3812 - accuracy: 0.82 - ETA: 0s - loss: 0.3770 - accuracy: 0.83 - ETA: 0s - loss: 0.3714 - accuracy: 0.83 - ETA: 0s - loss: 0.3617 - accuracy: 0.84 - ETA: 0s - loss: 0.3645 - accuracy: 0.84 - ETA: 0s - loss: 0.3670 - accuracy: 0.84 - ETA: 0s - loss: 0.3663 - accuracy: 0.84 - ETA: 0s - loss: 0.3666 - accuracy: 0.84 - ETA: 0s - loss: 0.3672 - accuracy: 0.84 - ETA: 0s - loss: 0.3675 - accuracy: 0.84 - ETA: 0s - loss: 0.3680 - accuracy: 0.84 - ETA: 0s - loss: 0.3719 - accuracy: 0.83 - ETA: 0s - loss: 0.3733 - accuracy: 0.83 - ETA: 0s - loss: 0.3721 - accuracy: 0.83 - ETA: 0s - loss: 0.3710 - accuracy: 0.83 - ETA: 0s - loss: 0.3720 - accuracy: 0.83 - ETA: 0s - loss: 0.3732 - accuracy: 0.83 - 1s 130us/sample - loss: 0.3730 - accuracy: 0.8363\n",
      "Epoch 6/10\n",
      "7613/7613 [==============================] - ETA: 1s - loss: 0.4645 - accuracy: 0.75 - ETA: 0s - loss: 0.3165 - accuracy: 0.87 - ETA: 0s - loss: 0.3289 - accuracy: 0.86 - ETA: 0s - loss: 0.3336 - accuracy: 0.85 - ETA: 0s - loss: 0.3294 - accuracy: 0.86 - ETA: 0s - loss: 0.3316 - accuracy: 0.85 - ETA: 0s - loss: 0.3312 - accuracy: 0.85 - ETA: 0s - loss: 0.3283 - accuracy: 0.85 - ETA: 0s - loss: 0.3308 - accuracy: 0.85 - ETA: 0s - loss: 0.3306 - accuracy: 0.85 - ETA: 0s - loss: 0.3359 - accuracy: 0.85 - ETA: 0s - loss: 0.3413 - accuracy: 0.84 - ETA: 0s - loss: 0.3423 - accuracy: 0.85 - ETA: 0s - loss: 0.3403 - accuracy: 0.85 - ETA: 0s - loss: 0.3435 - accuracy: 0.85 - ETA: 0s - loss: 0.3445 - accuracy: 0.85 - ETA: 0s - loss: 0.3478 - accuracy: 0.84 - ETA: 0s - loss: 0.3491 - accuracy: 0.84 - ETA: 0s - loss: 0.3507 - accuracy: 0.84 - ETA: 0s - loss: 0.3526 - accuracy: 0.84 - ETA: 0s - loss: 0.3528 - accuracy: 0.84 - 1s 138us/sample - loss: 0.3562 - accuracy: 0.8454\n",
      "Epoch 7/10\n",
      "7613/7613 [==============================] - ETA: 1s - loss: 0.3600 - accuracy: 0.75 - ETA: 0s - loss: 0.3535 - accuracy: 0.83 - ETA: 0s - loss: 0.3406 - accuracy: 0.84 - ETA: 0s - loss: 0.3346 - accuracy: 0.85 - ETA: 0s - loss: 0.3327 - accuracy: 0.85 - ETA: 0s - loss: 0.3358 - accuracy: 0.85 - ETA: 0s - loss: 0.3333 - accuracy: 0.85 - ETA: 0s - loss: 0.3366 - accuracy: 0.85 - ETA: 0s - loss: 0.3320 - accuracy: 0.85 - ETA: 0s - loss: 0.3305 - accuracy: 0.85 - ETA: 0s - loss: 0.3325 - accuracy: 0.85 - ETA: 0s - loss: 0.3357 - accuracy: 0.85 - ETA: 0s - loss: 0.3344 - accuracy: 0.85 - ETA: 0s - loss: 0.3344 - accuracy: 0.85 - ETA: 0s - loss: 0.3360 - accuracy: 0.85 - ETA: 0s - loss: 0.3365 - accuracy: 0.85 - ETA: 0s - loss: 0.3380 - accuracy: 0.85 - ETA: 0s - loss: 0.3407 - accuracy: 0.85 - ETA: 0s - loss: 0.3423 - accuracy: 0.85 - ETA: 0s - loss: 0.3429 - accuracy: 0.85 - 1s 131us/sample - loss: 0.3438 - accuracy: 0.8508\n",
      "Epoch 8/10\n",
      "7613/7613 [==============================] - ETA: 1s - loss: 0.6059 - accuracy: 0.75 - ETA: 0s - loss: 0.2838 - accuracy: 0.88 - ETA: 0s - loss: 0.3185 - accuracy: 0.87 - ETA: 0s - loss: 0.3147 - accuracy: 0.87 - ETA: 0s - loss: 0.3136 - accuracy: 0.86 - ETA: 0s - loss: 0.3148 - accuracy: 0.86 - ETA: 0s - loss: 0.3159 - accuracy: 0.86 - ETA: 0s - loss: 0.3197 - accuracy: 0.86 - ETA: 0s - loss: 0.3213 - accuracy: 0.86 - ETA: 0s - loss: 0.3200 - accuracy: 0.86 - ETA: 0s - loss: 0.3228 - accuracy: 0.86 - ETA: 0s - loss: 0.3231 - accuracy: 0.86 - ETA: 0s - loss: 0.3238 - accuracy: 0.86 - ETA: 0s - loss: 0.3223 - accuracy: 0.86 - ETA: 0s - loss: 0.3225 - accuracy: 0.86 - ETA: 0s - loss: 0.3250 - accuracy: 0.86 - ETA: 0s - loss: 0.3239 - accuracy: 0.86 - ETA: 0s - loss: 0.3258 - accuracy: 0.86 - ETA: 0s - loss: 0.3270 - accuracy: 0.86 - ETA: 0s - loss: 0.3265 - accuracy: 0.86 - 1s 128us/sample - loss: 0.3264 - accuracy: 0.8623\n",
      "Epoch 9/10\n",
      "7613/7613 [==============================] - ETA: 1s - loss: 0.4263 - accuracy: 0.87 - ETA: 1s - loss: 0.2915 - accuracy: 0.88 - ETA: 0s - loss: 0.2934 - accuracy: 0.88 - ETA: 0s - loss: 0.2983 - accuracy: 0.87 - ETA: 0s - loss: 0.3028 - accuracy: 0.87 - ETA: 0s - loss: 0.3070 - accuracy: 0.87 - ETA: 0s - loss: 0.3028 - accuracy: 0.87 - ETA: 0s - loss: 0.3026 - accuracy: 0.87 - ETA: 0s - loss: 0.3030 - accuracy: 0.87 - ETA: 0s - loss: 0.2974 - accuracy: 0.87 - ETA: 0s - loss: 0.2984 - accuracy: 0.87 - ETA: 0s - loss: 0.2973 - accuracy: 0.87 - ETA: 0s - loss: 0.2971 - accuracy: 0.87 - ETA: 0s - loss: 0.3011 - accuracy: 0.87 - ETA: 0s - loss: 0.3049 - accuracy: 0.87 - ETA: 0s - loss: 0.3042 - accuracy: 0.87 - ETA: 0s - loss: 0.3026 - accuracy: 0.87 - ETA: 0s - loss: 0.3073 - accuracy: 0.87 - ETA: 0s - loss: 0.3087 - accuracy: 0.87 - ETA: 0s - loss: 0.3080 - accuracy: 0.87 - 1s 134us/sample - loss: 0.3114 - accuracy: 0.8693\n",
      "Epoch 10/10\n",
      "7613/7613 [==============================] - ETA: 1s - loss: 0.2624 - accuracy: 0.87 - ETA: 0s - loss: 0.2398 - accuracy: 0.90 - ETA: 0s - loss: 0.2529 - accuracy: 0.89 - ETA: 0s - loss: 0.2622 - accuracy: 0.89 - ETA: 0s - loss: 0.2659 - accuracy: 0.89 - ETA: 0s - loss: 0.2750 - accuracy: 0.88 - ETA: 0s - loss: 0.2838 - accuracy: 0.88 - ETA: 0s - loss: 0.2840 - accuracy: 0.88 - ETA: 0s - loss: 0.2848 - accuracy: 0.88 - ETA: 0s - loss: 0.2860 - accuracy: 0.88 - ETA: 0s - loss: 0.2913 - accuracy: 0.87 - ETA: 0s - loss: 0.2930 - accuracy: 0.87 - ETA: 0s - loss: 0.2933 - accuracy: 0.87 - ETA: 0s - loss: 0.2941 - accuracy: 0.87 - ETA: 0s - loss: 0.2946 - accuracy: 0.87 - ETA: 0s - loss: 0.2952 - accuracy: 0.87 - ETA: 0s - loss: 0.2947 - accuracy: 0.87 - ETA: 0s - loss: 0.2964 - accuracy: 0.87 - ETA: 0s - loss: 0.2961 - accuracy: 0.87 - ETA: 0s - loss: 0.2953 - accuracy: 0.87 - 1s 130us/sample - loss: 0.2952 - accuracy: 0.8769\n"
     ]
    },
    {
     "data": {
      "text/plain": [
       "<tensorflow.python.keras.callbacks.History at 0x24e389a0748>"
      ]
     },
     "execution_count": 83,
     "metadata": {},
     "output_type": "execute_result"
    }
   ],
   "source": [
    "final_model = ffnn(0, nodes=64)\n",
    "final_model.fit(doc_vectors, y, batch_size=8, epochs=10)"
   ]
  },
  {
   "cell_type": "code",
   "execution_count": 84,
   "metadata": {},
   "outputs": [
    {
     "name": "stderr",
     "output_type": "stream",
     "text": [
      "100%|█████████████████████████████████████████████████████████████████████████████| 3263/3263 [00:26<00:00, 125.32it/s]\n"
     ]
    }
   ],
   "source": [
    "with nlp.disable_pipes():\n",
    "    target_vectors = np.array([nlp(doc).vector for doc in tqdm(test.text)])"
   ]
  },
  {
   "cell_type": "code",
   "execution_count": 99,
   "metadata": {},
   "outputs": [],
   "source": [
    "pred = final_model.predict(target_vectors)"
   ]
  },
  {
   "cell_type": "code",
   "execution_count": 100,
   "metadata": {},
   "outputs": [],
   "source": [
    "pred = np.where(pred > 0.5, 1, 0)"
   ]
  },
  {
   "cell_type": "code",
   "execution_count": 101,
   "metadata": {},
   "outputs": [],
   "source": [
    "pred = pred.ravel()"
   ]
  },
  {
   "cell_type": "code",
   "execution_count": 103,
   "metadata": {},
   "outputs": [],
   "source": [
    "submission = pd.DataFrame({'id': test.id, 'target': pred})\n",
    "submission.to_csv('disaster_tweet_ffnn.csv', index=False)"
   ]
  },
  {
   "cell_type": "code",
   "execution_count": null,
   "metadata": {},
   "outputs": [],
   "source": []
  }
 ],
 "metadata": {
  "kernelspec": {
   "display_name": "Python 3",
   "language": "python",
   "name": "python3"
  },
  "language_info": {
   "codemirror_mode": {
    "name": "ipython",
    "version": 3
   },
   "file_extension": ".py",
   "mimetype": "text/x-python",
   "name": "python",
   "nbconvert_exporter": "python",
   "pygments_lexer": "ipython3",
   "version": "3.7.4"
  }
 },
 "nbformat": 4,
 "nbformat_minor": 4
}
